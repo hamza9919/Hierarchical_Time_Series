{
 "cells": [
  {
   "cell_type": "code",
   "execution_count": 102,
   "metadata": {},
   "outputs": [],
   "source": [
    "import pandas as pd\n",
    "import numpy as np\n",
    "from collections import defaultdict\n",
    "from matplotlib import pyplot as plt\n",
    "\n",
    "import torch\n",
    "import torch.nn as nn\n",
    "import torch.nn.functional as F\n",
    "\n",
    "from sklearn import preprocessing"
   ]
  },
  {
   "cell_type": "code",
   "execution_count": 793,
   "metadata": {},
   "outputs": [],
   "source": [
    "data = pd.read_csv(\"data.csv\", index_col=0) # 1 + 1*4 + 1*4*7 + 1*4*7*2\n",
    "agg_mat_df = pd.read_csv(\"agg_mat.csv\", index_col=0) # matrix of aggregated data with bottom time series``\n",
    "\n",
    "maximum = np.max(data.values)\n",
    "data_scaled = (data / maximum).values\n",
    "\n",
    "# scaler = preprocessing.StandardScaler().fit(data)\n",
    "# from sklearn.preprocessing import MinMaxScaler\n",
    "# scaler = MinMaxScaler().fit(data)\n",
    "# data_scaled = scaler.transform(data)"
   ]
  },
  {
   "cell_type": "code",
   "execution_count": 794,
   "metadata": {},
   "outputs": [],
   "source": [
    "def calculate_wmape(actual_values, forecasted_values):\n",
    "    n = len(actual_values)\n",
    "    num = np.sum(np.abs(actual_values - forecasted_values))\n",
    "    den = np.sum(np.abs(actual_values))\n",
    "    wmape = num/den\n",
    "    return wmape"
   ]
  },
  {
   "cell_type": "code",
   "execution_count": 796,
   "metadata": {},
   "outputs": [
    {
     "data": {
      "image/png": "[encoded data removed]",
      "text/plain": [
       "<Figure size 432x288 with 1 Axes>"
      ]
     },
     "metadata": {
      "needs_background": "light"
     },
     "output_type": "display_data"
    }
   ],
   "source": [
    "plt.plot(data.total)\n",
    "plt.xticks(rotation=90);"
   ]
  },
  {
   "cell_type": "code",
   "execution_count": 799,
   "metadata": {},
   "outputs": [],
   "source": [
    "def make_data(dataset, range_): \n",
    "    X_data = []\n",
    "    y_data = []\n",
    "    for i in range_:\n",
    "        X = dataset[i:i+context_window,:].T.flatten()\n",
    "        X_data.append(X)\n",
    "\n",
    "        y = dataset[i+context_window:i+context_window+1,:].T.flatten()\n",
    "        y_data.append(y)\n",
    "\n",
    "    return torch.tensor(X_data).float(), torch.tensor(y_data).float()"
   ]
  },
  {
   "cell_type": "code",
   "execution_count": 800,
   "metadata": {},
   "outputs": [],
   "source": [
    "n_series = 89\n",
    "n_total = data.shape[0]\n",
    "n_train = 20\n",
    "context_window = 4\n",
    "\n",
    "X_train, y_train = make_data(data_scaled, range(n_train))\n",
    "X_test, y_test = make_data(data_scaled, range(n_train,n_total - context_window))"
   ]
  },
  {
   "cell_type": "code",
   "execution_count": 801,
   "metadata": {},
   "outputs": [],
   "source": [
    "# weights = torch.tensor([torch.sum(aggregation_mat[ts,:]).item() for ts in range(len(aggregation_mat))])"
   ]
  },
  {
   "cell_type": "code",
   "execution_count": 802,
   "metadata": {},
   "outputs": [],
   "source": [
    "class LinearNet(nn.Module):\n",
    "    def __init__(self, n_series, context):\n",
    "        super().__init__()\n",
    "        # self.input_layer = nn.Linear(n_series * context, 400)\n",
    "        # self.last_layer = nn.Linear(400, n_series)\n",
    "        self.last_layer = nn.Linear(n_series * context, n_series)\n",
    "\n",
    "    def forward(self, x):\n",
    "        # x = F.relu(self.input_layer(x))\n",
    "        return self.last_layer(x)"
   ]
  },
  {
   "cell_type": "code",
   "execution_count": 804,
   "metadata": {},
   "outputs": [
    {
     "name": "stdout",
     "output_type": "stream",
     "text": [
      "Epoch: 0  Loss:  0.01243001497350633\n",
      "Epoch: 50  Loss:  0.001994718471435001\n",
      "Epoch: 100  Loss:  0.001088187837689979\n",
      "Epoch: 150  Loss:  0.0007697265120459513\n"
     ]
    }
   ],
   "source": [
    "import torch.optim as optim\n",
    "\n",
    "network = LinearNet(n_series, context_window)\n",
    "n_epochs = 200\n",
    "\n",
    "criterion = nn.MSELoss()\n",
    "optimizer = optim.Adam(network.parameters(), lr=0.0001)\n",
    "\n",
    "losses = []\n",
    "for epoch in range(n_epochs):  # loop over the dataset multiple times\n",
    "    for i in range(len(X_train)):\n",
    "        inputs = X_train[i:i+1,:]\n",
    "        labels = y_train[i:i+1,:]\n",
    "\n",
    "        optimizer.zero_grad()\n",
    "\n",
    "        outputs = network(inputs)\n",
    "\n",
    "        # loss = criterion(outputs * weights, labels * weights)\n",
    "        loss = criterion(outputs, labels)\n",
    "        loss.backward()\n",
    "        optimizer.step()\n",
    "\n",
    "        losses.append(loss.item())\n",
    "\n",
    "    if epoch % 50 == 0:    \n",
    "        print(\"Epoch:\", epoch, \" Loss: \", np.mean(losses))"
   ]
  },
  {
   "cell_type": "code",
   "execution_count": 805,
   "metadata": {},
   "outputs": [],
   "source": [
    "aggregation_mat = torch.tensor(np.append(np.zeros((agg_mat_df.shape[0], agg_mat_df.shape[0] - agg_mat_df.shape[1])), agg_mat_df, axis=1)).float()\n",
    "\n",
    "def coherency_loss(network): \n",
    "    return torch.norm(aggregation_mat @ network.last_layer.weight - network.last_layer.weight) / torch.norm(network.last_layer.weight)"
   ]
  },
  {
   "cell_type": "code",
   "execution_count": 806,
   "metadata": {},
   "outputs": [],
   "source": [
    "def visualize(ts, net): \n",
    "    with torch.no_grad(): \n",
    "        predict = net(X_test).numpy()[ts,:]\n",
    "        truth = y_test.numpy()[ts,:]\n",
    "\n",
    "        plt.plot(truth, label = 'truth')\n",
    "        plt.plot(predict, label = 'prediction')\n",
    "        plt.legend()"
   ]
  },
  {
   "cell_type": "code",
   "execution_count": 860,
   "metadata": {},
   "outputs": [
    {
     "name": "stdout",
     "output_type": "stream",
     "text": [
      "Epoch: 0  Loss:  0.014141319831833244\n",
      "Epoch: 50  Loss:  0.002603138341053672\n",
      "Epoch: 100  Loss:  0.0014318609644094365\n",
      "Epoch: 150  Loss:  0.001024948802875848\n",
      "Epoch: 200  Loss:  0.000815344479851593\n",
      "Epoch: 250  Loss:  0.0006855624716874908\n",
      "Epoch: 300  Loss:  0.0005961741730665792\n",
      "Epoch: 350  Loss:  0.0005301658494481205\n",
      "Epoch: 400  Loss:  0.00047894613857932565\n",
      "Epoch: 450  Loss:  0.0004377919095009675\n"
     ]
    }
   ],
   "source": [
    "import torch.optim as optim\n",
    "\n",
    "network_coherent = LinearNet(n_series, context_window)\n",
    "n_epochs = 500\n",
    "\n",
    "criterion = nn.MSELoss()\n",
    "optimizer = optim.Adam(network_coherent.parameters(), lr=0.0001)\n",
    "\n",
    "alpha = 0.1\n",
    "\n",
    "losses = []\n",
    "for epoch in range(n_epochs):  # loop over the dataset multi ple times\n",
    "    for i in range(len(X_train)):\n",
    "        inputs = X_train[i:i+1,:]\n",
    "        labels = y_train[i:i+1,:]\n",
    "\n",
    "        optimizer.zero_grad()\n",
    "\n",
    "        outputs = network_coherent(inputs)\n",
    "\n",
    "        # l1 = criterion(outputs * weights, labels * weights)\n",
    "        l1 = criterion(outputs, labels) \n",
    "        l2 = coherency_loss(network_coherent)\n",
    "\n",
    "        # print(l1.item(), l2.item())\n",
    "\n",
    "        loss = l1 + alpha * l2\n",
    "\n",
    "        loss.backward()\n",
    "        optimizer.step()\n",
    "\n",
    "        losses.append(l1.item())\n",
    "    \n",
    "    if epoch % 50 == 0:\n",
    "        print(\"Epoch:\", epoch, \" Loss: \", np.mean(losses))"
   ]
  },
  {
   "cell_type": "code",
   "execution_count": 861,
   "metadata": {},
   "outputs": [
    {
     "data": {
      "image/png": "[encoded data removed]",
      "text/plain": [
       "<Figure size 432x288 with 1 Axes>"
      ]
     },
     "metadata": {
      "needs_background": "light"
     },
     "output_type": "display_data"
    }
   ],
   "source": [
    "visualize(0, network_coherent)"
   ]
  },
  {
   "cell_type": "code",
   "execution_count": 862,
   "metadata": {},
   "outputs": [
    {
     "data": {
      "image/png": "[encoded data removed]",
      "text/plain": [
       "<Figure size 432x288 with 1 Axes>"
      ]
     },
     "metadata": {
      "needs_background": "light"
     },
     "output_type": "display_data"
    }
   ],
   "source": [
    "visualize(0, network)"
   ]
  },
  {
   "cell_type": "code",
   "execution_count": 867,
   "metadata": {},
   "outputs": [
    {
     "name": "stdout",
     "output_type": "stream",
     "text": [
      "WMAPE Baseline: 0.14387263\n",
      "WMAPE Coherent: 0.17822723\n"
     ]
    }
   ],
   "source": [
    "print(\"WMAPE Baseline:\", calculate_wmape(y_test.numpy(), network(X_test).detach().numpy()))\n",
    "print(\"WMAPE Coherent:\", calculate_wmape(y_test.numpy(), network_coherent(X_test).detach().numpy()))"
   ]
  },
  {
   "cell_type": "code",
   "execution_count": 864,
   "metadata": {},
   "outputs": [],
   "source": [
    "all_agg_levels = np.unique([torch.sum(aggregation_mat[ts,:]).item() for ts in range(len(aggregation_mat))])"
   ]
  },
  {
   "cell_type": "code",
   "execution_count": 865,
   "metadata": {},
   "outputs": [
    {
     "data": {
      "text/plain": [
       "array([ 1.,  2., 14., 56.])"
      ]
     },
     "execution_count": 865,
     "metadata": {},
     "output_type": "execute_result"
    }
   ],
   "source": [
    "all_agg_levels"
   ]
  },
  {
   "cell_type": "code",
   "execution_count": 871,
   "metadata": {},
   "outputs": [
    {
     "name": "stdout",
     "output_type": "stream",
     "text": [
      "Baseline: 0.0012079647020159644\n",
      "Coherent: 0.0017371844871723584\n"
     ]
    },
    {
     "data": {
      "text/plain": [
       "<matplotlib.legend.Legend at 0x1edafb55be0>"
      ]
     },
     "execution_count": 871,
     "metadata": {},
     "output_type": "execute_result"
    },
    {
     "data": {
      "image/png": "[encoded data removed]",
      "text/plain": [
       "<Figure size 432x288 with 1 Axes>"
      ]
     },
     "metadata": {
      "needs_background": "light"
     },
     "output_type": "display_data"
    }
   ],
   "source": [
    "aggregation_level = all_agg_levels[0]\n",
    "aggregation_amounts = []\n",
    "errs_baseline = [] \n",
    "errs_coherent = []\n",
    "for ts in range(len(aggregation_mat)):\n",
    "    agg_level = torch.sum(aggregation_mat[ts,:]).item()\n",
    "    if agg_level == aggregation_level: \n",
    "        err_baseline = torch.norm(network(X_test)[:,ts] - y_test[:,ts]).item() / len(X_test)\n",
    "        err_coherent = torch.norm(network_coherent(X_test)[:,ts] - y_test[:,ts]).item() / len(X_test)\n",
    "\n",
    "        aggregation_amounts.append(agg_level)\n",
    "        errs_baseline.append(err_baseline)\n",
    "        errs_coherent.append(err_coherent)\n",
    "\n",
    "plt.hist([errs_baseline, errs_coherent], label = ['baseline', 'coherent'])\n",
    "# plt.hist(errs_baseline, label = 'baseline')\n",
    "# plt.hist(errs_coherent, label = 'coherent', alpha = 0.5)\n",
    "\n",
    "print(\"Baseline:\", np.mean(errs_baseline))\n",
    "print(\"Coherent:\", np.mean(errs_coherent))\n",
    "\n",
    "# plt.scatter(errs_baseline, aggregation_amounts, label = 'baseline')\n",
    "# plt.scatter(errs_coherent, aggregation_amounts, label = 'coherent')\n",
    "plt.legend()"
   ]
  },
  {
   "cell_type": "code",
   "execution_count": 872,
   "metadata": {},
   "outputs": [
    {
     "data": {
      "text/plain": [
       "tensor(0.0006, grad_fn=<DivBackward0>)"
      ]
     },
     "execution_count": 872,
     "metadata": {},
     "output_type": "execute_result"
    }
   ],
   "source": [
    "coherency_loss(network_coherent)"
   ]
  },
  {
   "cell_type": "code",
   "execution_count": 873,
   "metadata": {},
   "outputs": [
    {
     "data": {
      "text/plain": [
       "tensor(1.5081, grad_fn=<DivBackward0>)"
      ]
     },
     "execution_count": 873,
     "metadata": {},
     "output_type": "execute_result"
    }
   ],
   "source": [
    "coherency_loss(network)"
   ]
  },
  {
   "cell_type": "code",
   "execution_count": 874,
   "metadata": {},
   "outputs": [],
   "source": [
    "def coherency_metric(predictions): \n",
    "    return torch.norm(predictions - aggregation_mat @ predictions.T) / len(predictions)"
   ]
  },
  {
   "cell_type": "code",
   "execution_count": 875,
   "metadata": {},
   "outputs": [
    {
     "name": "stdout",
     "output_type": "stream",
     "text": [
      "coherent network coherency 1.1803923750145865e-05\n"
     ]
    }
   ],
   "source": [
    "coherent_scores = []\n",
    "for i in range(len(X_test)):\n",
    "    cur = coherency_metric(network_coherent(X_test[i,:])).item()\n",
    "    coherent_scores.append(cur)\n",
    "print(\"coherent network coherency\", np.mean(coherent_scores))"
   ]
  },
  {
   "cell_type": "code",
   "execution_count": 876,
   "metadata": {},
   "outputs": [
    {
     "name": "stdout",
     "output_type": "stream",
     "text": [
      "baseline network coherency 0.0008986533988111963\n"
     ]
    }
   ],
   "source": [
    "baseline_scores = []\n",
    "for i in range(len(X_test)):\n",
    "    cur = coherency_metric(network(X_test[i,:])).item()\n",
    "    baseline_scores.append(cur)\n",
    "print(\"baseline network coherency\", np.mean(baseline_scores))"
   ]
  },
  {
   "cell_type": "code",
   "execution_count": 877,
   "metadata": {},
   "outputs": [
    {
     "data": {
      "text/plain": [
       "76.57138240067195"
      ]
     },
     "execution_count": 877,
     "metadata": {},
     "output_type": "execute_result"
    }
   ],
   "source": [
    "np.mean(np.array(baseline_scores) / np.array(coherent_scores))"
   ]
  },
  {
   "cell_type": "code",
   "execution_count": null,
   "metadata": {},
   "outputs": [],
   "source": []
  },
  {
   "cell_type": "code",
   "execution_count": null,
   "metadata": {},
   "outputs": [],
   "source": []
  }
 ],
 "metadata": {
  "kernelspec": {
   "display_name": "base",
   "language": "python",
   "name": "python3"
  },
  "language_info": {
   "codemirror_mode": {
    "name": "ipython",
    "version": 3
   },
   "file_extension": ".py",
   "mimetype": "text/x-python",
   "name": "python",
   "nbconvert_exporter": "python",
   "pygments_lexer": "ipython3",
   "version": "3.9.7"
  },
  "orig_nbformat": 4
 },
 "nbformat": 4,
 "nbformat_minor": 2
}
